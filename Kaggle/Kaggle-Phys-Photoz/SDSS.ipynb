{
 "cells": [
  {
   "cell_type": "markdown",
   "metadata": {},
   "source": [
    "# SDSS analysis\n",
    "## Initializing"
   ]
  },
  {
   "cell_type": "code",
   "execution_count": 9,
   "metadata": {},
   "outputs": [
    {
     "name": "stdout",
     "output_type": "stream",
     "text": [
      "#### Time for initialization:  0:00:00 \n",
      "\n"
     ]
    }
   ],
   "source": [
    "from datetime import datetime\n",
    "from datetime import timedelta\n",
    "start = datetime.now()          ### Measuring time\n",
    "TotalTime = timedelta(0)        ### Measuring total elapsed time\n",
    "\n",
    "import numpy as np\n",
    "import pandas as pd\n",
    "import matplotlib.pyplot as plt\n",
    "#import git\n",
    "\n",
    "from sklearn import linear_model\n",
    "from sklearn import ensemble\n",
    "from sklearn import neighbors\n",
    "from sklearn import neural_network\n",
    "from sklearn.preprocessing import PolynomialFeatures\n",
    "from sklearn.pipeline import make_pipeline\n",
    "from sklearn.model_selection import cross_val_predict\n",
    "\n",
    "PathInputFolder = 'input/'                  # Folder of input data\n",
    "PathTrain = 'input/train.csv.gz'            # Input TRAIN data\n",
    "PathTest = 'input/test.csv.gz'              # Input TEST data\n",
    "PathSample = 'input/sampleSubmission.csv'   # Input SAMPLE data\n",
    "'''\n",
    "PathInputFolder = '../input/'                  # Folder of input data\n",
    "PathTrain = '../input/train.csv.gz'            # Input TRAIN data\n",
    "PathTest = '../input/test.csv.gz'              # Input TEST data\n",
    "PathSample = '../input/sampleSubmission.csv'   # Input SAMPLE data\n",
    "'''\n",
    "# PathOutputFolder = '../output/'                # Folder of input data\n",
    "# PathOutput = '../output/sdss_predict.csv'      # Output file\n",
    "\n",
    "print(\"#### Time for initialization: \", datetime.now() - start, '\\n')\n",
    "TotalTime += datetime.now() - start ### Measuring time total"
   ]
  },
  {
   "cell_type": "code",
   "execution_count": 10,
   "metadata": {},
   "outputs": [],
   "source": [
    "def Models():\n",
    "\n",
    "    # Linear models\n",
    "    forest = ensemble.RandomForestRegressor(n_estimators=150, min_samples_split=15,min_samples_leaf=5)\n",
    "    extra = ensemble.ExtraTreesRegressor(n_estimators=150, max_depth=30, min_samples_split=15 ,min_samples_leaf=5)\n",
    "    linear = linear_model.LinearRegression()\n",
    "    neural_1 = neural_network.MLPRegressor(hidden_layer_sizes=(120,), activation='relu',learning_rate_init=0.0001)\n",
    "    ridge = linear_model.Ridge()\n",
    "    KN = neighbors.KNeighborsRegressor(n_neighbors=150, weights='uniform')\n",
    "\n",
    "    # Polynomial models\n",
    "    polyness = make_pipeline(PolynomialFeatures(4), neural_1)\n",
    "\n",
    "    ############ MODIFY TO CHOOSE MODEL ############\n",
    "    model = extra\n",
    "    ############ MODIFY TO CHOOSE MODEL ############\n",
    "\n",
    "    print(\"Choosen model: \", model, '\\n')\n",
    "\n",
    "    return(model)"
   ]
  },
  {
   "cell_type": "code",
   "execution_count": 11,
   "metadata": {},
   "outputs": [
    {
     "name": "stdout",
     "output_type": "stream",
     "text": [
      "Choosen model:  ExtraTreesRegressor(bootstrap=False, criterion='mse', max_depth=30,\n",
      "          max_features='auto', max_leaf_nodes=None,\n",
      "          min_impurity_decrease=0.0, min_impurity_split=None,\n",
      "          min_samples_leaf=5, min_samples_split=15,\n",
      "          min_weight_fraction_leaf=0.0, n_estimators=150, n_jobs=1,\n",
      "          oob_score=False, random_state=None, verbose=0, warm_start=False) \n",
      "\n",
      "#### Time for choosing model:  0:00:00 \n",
      "\n"
     ]
    }
   ],
   "source": [
    "start = datetime.now() ### Measuring time\n",
    "\n",
    "model = Models()\n",
    "\n",
    "print(\"#### Time for choosing model: \", datetime.now() - start, '\\n')\n",
    "TotalTime += datetime.now() - start ### Measuring time total"
   ]
  },
  {
   "cell_type": "markdown",
   "metadata": {},
   "source": [
    "## Fit (train)"
   ]
  },
  {
   "cell_type": "code",
   "execution_count": 12,
   "metadata": {},
   "outputs": [],
   "source": [
    "def Train(model):\n",
    "\n",
    "    # Read in parameters\n",
    "    TrainDataFrame = pd.read_csv(PathTrain)                     # Load train data from .csv\n",
    "    print(\"Train data ready!\")\n",
    "    x = TrainDataFrame[['u','g','r','i','z']].values            # Format x for model.fit\n",
    "    y = TrainDataFrame['redshift'].values                       # Format y for model.fit\n",
    "\n",
    "    # Fit choosen model\n",
    "    model.fit(x,y)\n",
    "    print(\"Success! Model fitted!\")\n",
    "\n",
    "    return(model, x, y)"
   ]
  },
  {
   "cell_type": "code",
   "execution_count": 13,
   "metadata": {},
   "outputs": [
    {
     "name": "stdout",
     "output_type": "stream",
     "text": [
      "Train data ready!\n",
      "Success! Model fitted!\n",
      "#### Time for reading in and fitting on train:  0:01:37.430801 \n",
      "\n"
     ]
    }
   ],
   "source": [
    "start = datetime.now()       ### Measuring time\n",
    "\n",
    "model, x, y = Train(model)\n",
    "\n",
    "print(\"#### Time for reading in and fitting on train: \", datetime.now() - start, '\\n')\n",
    "TotalTime += datetime.now() - start ### Measuring time total"
   ]
  },
  {
   "cell_type": "markdown",
   "metadata": {},
   "source": [
    "## Predict (Test)"
   ]
  },
  {
   "cell_type": "code",
   "execution_count": 18,
   "metadata": {
    "scrolled": false
   },
   "outputs": [],
   "source": [
    "def Test(model):\n",
    "\n",
    "    TestDataFrame =  pd.read_csv(PathTest)                 # Read test data\n",
    "    print(\"Test data ready!\")\n",
    "    x_test = TestDataFrame[['u','g','r','i','z']].values   # Get test x\n",
    "    y_pred = model.predict(x_test)                         # Predict test y from x\n",
    "    print(\"Test prediction finished!\")\n",
    "\n",
    "    # Write y in the sample submission table (order is good)\n",
    "    ResultDataFrame =  pd.read_csv(PathSample)\n",
    "    ResultDataFrame['redshift'] =  y_pred\n",
    "\n",
    "    # Save submission (no index column)\n",
    "    ResultDataFrame.to_csv(\"sdss_predict.csv\",index=False, mode='w+')\n",
    "\n",
    "    return(model, y_pred)"
   ]
  },
  {
   "cell_type": "code",
   "execution_count": 20,
   "metadata": {
    "scrolled": true
   },
   "outputs": [
    {
     "name": "stdout",
     "output_type": "stream",
     "text": [
      "Test data ready!\n",
      "Test prediction finished!\n",
      "#### Time for reading in test, predict redshifts and wrting them to files:  0:00:23.589201 \n",
      "\n",
      "#### Total time for running the whole program:  0:02:44.251602 s\n"
     ]
    }
   ],
   "source": [
    "start = datetime.now()       ### Measuring time\n",
    "\n",
    "model, y_pred_model = Test(model)\n",
    "\n",
    "print(\"#### Time for reading in test, predict redshifts and wrting them to files: \", datetime.now() - start, '\\n')\n",
    "TotalTime += datetime.now() - start ### Measuring time total\n",
    "\n",
    "## PRINT TOTAL RUNTIME\n",
    "print(\"#### Total time for running the whole program: \", TotalTime, \"s\")"
   ]
  },
  {
   "cell_type": "markdown",
   "metadata": {},
   "source": [
    "# END OF FILE"
   ]
  }
 ],
 "metadata": {
  "kernelspec": {
   "display_name": "Python 3",
   "language": "python",
   "name": "python3"
  },
  "language_info": {
   "codemirror_mode": {
    "name": "ipython",
    "version": 3
   },
   "file_extension": ".py",
   "mimetype": "text/x-python",
   "name": "python",
   "nbconvert_exporter": "python",
   "pygments_lexer": "ipython3",
   "version": "3.6.4"
  }
 },
 "nbformat": 4,
 "nbformat_minor": 2
}
