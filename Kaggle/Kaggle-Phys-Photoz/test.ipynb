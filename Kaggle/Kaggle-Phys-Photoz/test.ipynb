{
  "cells": [
    {
      "outputs": [],
      "cell_type": "code",
      "execution_count": null,
      "metadata": {},
      "source": [
        "%pylab inline"
      ]
    },
    {
      "outputs": [],
      "cell_type": "code",
      "execution_count": null,
      "metadata": {
        "collapsed": true
      },
      "source": [
        "import sklearn  # machine learning toolbox in python\n",
        "import pandas as pd  #data handling toolbox\n",
        "from sklearn.ensemble import ExtraTreesRegressor"
      ]
    },
    {
      "outputs": [],
      "cell_type": "code",
      "execution_count": null,
      "metadata": {},
      "source": [
        "train = pd.read_csv('../input/train.csv.gz')\n",
        "test = pd.read_csv('../input/test.csv.gz')"
      ]
    },
    {
      "outputs": [],
      "cell_type": "code",
      "execution_count": null,
      "metadata": {
        "collapsed": true
      },
      "source": [
        "data_x = train.drop(['id', 'redshift'], axis=1).values\n",
        "data_y = train.redshift.values"
      ]
    },
    {
      "outputs": [],
      "cell_type": "code",
      "execution_count": null,
      "metadata": {
        "collapsed": true
      },
      "source": [
        "data_test = test.drop(['id'], axis=1).values\n",
        "id_val = test.id.values"
      ]
    },
    {
      "outputs": [],
      "cell_type": "code",
      "execution_count": null,
      "metadata": {
        "collapsed": true
      },
      "source": [
        "etr = ExtraTreesRegressor(n_estimators=150,max_features=\"auto\", max_depth=30,min_samples_split=15,min_samples_leaf=3)"
      ]
    },
    {
      "outputs": [],
      "cell_type": "code",
      "execution_count": null,
      "metadata": {},
      "source": [
        "%%time\n",
        "etr.fit(data_x, data_y)"
      ]
    },
    {
      "outputs": [],
      "cell_type": "code",
      "execution_count": null,
      "metadata": {},
      "source": [
        "%%time\n",
        "data_y_pred = etr.predict(data_test)"
      ]
    },
    {
      "outputs": [],
      "cell_type": "code",
      "execution_count": null,
      "metadata": {
        "collapsed": true
      },
      "source": [
        "df = pd.DataFrame({'id': id_val,'redshift': data_y_pred})\n"
      ]
    },
    {
      "outputs": [],
      "cell_type": "code",
      "execution_count": null,
      "metadata": {
        "collapsed": true
      },
      "source": [
        "df.to_csv('Kruppa_Zoltan.csv',sep=',',index=False)"
      ]
    },
    {
      "outputs": [],
      "cell_type": "code",
      "execution_count": null,
      "metadata": {
        "collapsed": true
      },
      "source": []
    }
  ],
  "metadata": {
    "kernelspec": {
      "language": "python",
      "display_name": "Python 3",
      "name": "python3"
    },
    "language_info": {
      "file_extension": ".py",
      "codemirror_mode": {
        "version": 3,
        "name": "ipython"
      },
      "pygments_lexer": "ipython3",
      "version": "3.6.4",
      "mimetype": "text/x-python",
      "nbconvert_exporter": "python",
      "name": "python"
    }
  },
  "nbformat_minor": 1,
  "nbformat": 4
}