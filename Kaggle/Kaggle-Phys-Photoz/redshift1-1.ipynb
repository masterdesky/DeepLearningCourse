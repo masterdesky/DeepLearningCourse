{
 "cells": [
  {
   "cell_type": "code",
   "execution_count": 8,
   "metadata": {},
   "outputs": [
    {
     "name": "stdout",
     "output_type": "stream",
     "text": [
      "['my_photoz_test.csv', 'sampleSubmission.csv', 'test.csv.gz', 'train.csv.gz']\n"
     ]
    }
   ],
   "source": [
    "# This Python 3 environment comes with many helpful analytics libraries installed\n",
    "# It is defined by the kaggle/python docker image: https://github.com/kaggle/docker-python\n",
    "# For example, here's several helpful packages to load in \n",
    "import matplotlib.pyplot as plt\n",
    "import numpy as np # linear algebra\n",
    "import pandas as pd # data processing, CSV file I/O (e.g. pd.read_csv)\n",
    "from sklearn.ensemble import RandomForestRegressor\n",
    "from sklearn.linear_model import LinearRegression\n",
    "\n",
    "# Input data files are available in the \"../input/\" directory.\n",
    "# For example, running this (by clicking run or pressing Shift+Enter) will list the files in the input directory\n",
    "\n",
    "pathinput = 'C:/Users/Lordpb/Documents/GitHub/Kaggle-Phys-Photoz/input'\n",
    "pathtrain = 'C:/Users/Lordpb/Documents/GitHub/Kaggle-Phys-Photoz/input/train.csv.gz'\n",
    "pathtest = 'C:/Users/Lordpb/Documents/GitHub/Kaggle-Phys-Photoz/input/test.csv.gz'\n",
    "pathsample = 'C:/Users/Lordpb/Documents/GitHub/Kaggle-Phys-Photoz/input/sampleSubmission.csv'\n",
    "pathcovar = 'C:/Users/Lordpb/Documents/GitHub/Kaggle-Phys-Photoz/input/my_photoz_test.csv'\n",
    "pathoutput = 'C:/Users/Lordpb/Documents/GitHub/Kaggle-Phys-Photoz/output/sdss_predict.csv'\n",
    "\n",
    "import os\n",
    "print(os.listdir(pathinput))\n",
    "\n",
    "# Any results you write to the current directory are saved as output."
   ]
  },
  {
   "cell_type": "code",
   "execution_count": 9,
   "metadata": {},
   "outputs": [],
   "source": [
    "df = pd.read_csv(pathtrain)  # load train data\n",
    "x = df[['u','g','r','i','z']].values.T  # format x as scipy expects it\n",
    "y = df['redshift'].values  # format y as scipy expects it"
   ]
  },
  {
   "cell_type": "code",
   "execution_count": 10,
   "metadata": {},
   "outputs": [
    {
     "data": {
      "text/plain": [
       "RandomForestRegressor(bootstrap=True, criterion='mse', max_depth=None,\n",
       "           max_features='auto', max_leaf_nodes=None,\n",
       "           min_impurity_decrease=0.0, min_impurity_split=None,\n",
       "           min_samples_leaf=1, min_samples_split=2,\n",
       "           min_weight_fraction_leaf=0.0, n_estimators=10, n_jobs=1,\n",
       "           oob_score=False, random_state=None, verbose=0, warm_start=False)"
      ]
     },
     "execution_count": 10,
     "metadata": {},
     "output_type": "execute_result"
    }
   ],
   "source": [
    "model = RandomForestRegressor()\n",
    "model.fit(x.T,y)"
   ]
  },
  {
   "cell_type": "code",
   "execution_count": 11,
   "metadata": {},
   "outputs": [],
   "source": [
    "testdf =  pd.read_csv(pathtest)  # read test data \n",
    "x_train = testdf[['u','g','r','i','z']].values  # get test x\n",
    "y_pred = model.predict(x_train)\n",
    "\n",
    "# write y in the sample submission table (order is good)\n",
    "resultdf =  pd.read_csv(pathsample) \n",
    "resultdf['redshift'] =  y_pred\n",
    "\n",
    "# save submission (no index column)\n",
    "resultdf.to_csv(pathoutput, index=False)"
   ]
  },
  {
   "cell_type": "code",
   "execution_count": 12,
   "metadata": {},
   "outputs": [],
   "source": [
    "# Wrapwrapper\n",
    "def testReg(y_pred):\n",
    "    \n",
    "    testBT =  pd.read_csv(pathcovar)  # read BT test data\n",
    "    y_bt = testBT['redshift'].values\n",
    "\n",
    "    plt.plot(y_pred,y_bt,'.')  # plot data points\n",
    "    plt.plot([-3,3],[-3,3])  # y = x line for reference\n",
    "    plt.xlabel('Z measured')  # label, labels, labels\n",
    "    plt.ylabel('Z predicted') # and labels\n",
    "    \n",
    "    print('RMSE:',((y_pred-y_bt)**2).mean()**0.5)  # primary metric\n",
    "    print('Pearson corr:',np.corrcoef(y_pred,y_bt)[0,1])  # another one"
   ]
  },
  {
   "cell_type": "code",
   "execution_count": 13,
   "metadata": {},
   "outputs": [
    {
     "name": "stdout",
     "output_type": "stream",
     "text": [
      "RMSE: 0.0392944223926\n",
      "Pearson corr: 0.978591093187\n"
     ]
    },
    {
     "data": {
      "image/png": "[encoded data removed]",
      "text/plain": [
       "<matplotlib.figure.Figure at 0x17299f60>"
      ]
     },
     "metadata": {},
     "output_type": "display_data"
    }
   ],
   "source": [
    "testReg(y_pred)"
   ]
  },
  {
   "cell_type": "code",
   "execution_count": null,
   "metadata": {},
   "outputs": [],
   "source": []
  }
 ],
 "metadata": {
  "kernelspec": {
   "display_name": "Python 3",
   "language": "python",
   "name": "python3"
  },
  "language_info": {
   "codemirror_mode": {
    "name": "ipython",
    "version": 3
   },
   "file_extension": ".py",
   "mimetype": "text/x-python",
   "name": "python",
   "nbconvert_exporter": "python",
   "pygments_lexer": "ipython3",
   "version": "3.6.4"
  }
 },
 "nbformat": 4,
 "nbformat_minor": 2
}
