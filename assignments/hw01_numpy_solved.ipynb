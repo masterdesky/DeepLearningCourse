{
 "cells": [
  {
   "cell_type": "markdown",
   "metadata": {},
   "source": [
    "# Deep Learning course\n",
    "## Homework 1"
   ]
  },
  {
   "cell_type": "markdown",
   "metadata": {},
   "source": [
    "### Initial values"
   ]
  },
  {
   "cell_type": "code",
   "execution_count": 33,
   "metadata": {},
   "outputs": [],
   "source": [
    "# LengthOfZeroVec: Number of elements in the first vector (full of zeros)\n",
    "# LengthOfLinearVec: Number of elements is the second vector (with elements a_i = i)\n",
    "# Coordinate: Indicate Pauli matrices. Could be 'X', 'Y' or 'Z'\n",
    "\n",
    "LengthOfZeroVec = 5\n",
    "LengthOfLinearVec = 10\n",
    "Coordinate = 'Y'"
   ]
  },
  {
   "cell_type": "code",
   "execution_count": 34,
   "metadata": {},
   "outputs": [],
   "source": [
    "import sys as s\n",
    "import numpy as np"
   ]
  },
  {
   "cell_type": "markdown",
   "metadata": {},
   "source": [
    "### Generating zero vector"
   ]
  },
  {
   "cell_type": "code",
   "execution_count": 35,
   "metadata": {},
   "outputs": [],
   "source": [
    "def ZeroVector(Length):\n",
    "    # Create vector of zeros\n",
    "    ZeroVec = np.zeros((Length,1), dtype=int)\n",
    "    return(ZeroVec)"
   ]
  },
  {
   "cell_type": "code",
   "execution_count": 36,
   "metadata": {},
   "outputs": [
    {
     "name": "stdout",
     "output_type": "stream",
     "text": [
      "Column vector full of zeros: \n",
      " [[0]\n",
      " [0]\n",
      " [0]\n",
      " [0]\n",
      " [0]]\n",
      "Shape:  (5, 1) \n",
      "\n"
     ]
    }
   ],
   "source": [
    "# Print vector full of zeros, and shape of the column vector\n",
    "\n",
    "print('Column vector full of zeros:', '\\n', ZeroVector(LengthOfZeroVec))\n",
    "print('Shape: ', ZeroVector(LengthOfZeroVec).shape, '\\n')"
   ]
  },
  {
   "cell_type": "markdown",
   "metadata": {},
   "source": [
    "### Generating vector with elements a_i = i"
   ]
  },
  {
   "cell_type": "code",
   "execution_count": 37,
   "metadata": {},
   "outputs": [],
   "source": [
    "def LinearVector(Length):\n",
    "    #Create vector with a_i = i elements\n",
    "    LinearVec = np.linspace(1,Length,num=Length)\n",
    "    return(LinearVec)"
   ]
  },
  {
   "cell_type": "code",
   "execution_count": 38,
   "metadata": {},
   "outputs": [
    {
     "name": "stdout",
     "output_type": "stream",
     "text": [
      "Column vector, with a_i = i elements: \n",
      " [ 1.  2.  3.  4.  5.  6.  7.  8.  9. 10.]\n",
      "Sum:  55.0 \n",
      "\n"
     ]
    }
   ],
   "source": [
    "# Print the \"Lin.vec.\" and the sum of its elements\n",
    "\n",
    "print('Column vector, with a_i = i elements:', '\\n', LinearVector(LengthOfLinearVec))\n",
    "print('Sum: ', sum(LinearVector(LengthOfLinearVec)), '\\n')"
   ]
  },
  {
   "cell_type": "markdown",
   "metadata": {},
   "source": [
    "### Generating Pauli matrices"
   ]
  },
  {
   "cell_type": "code",
   "execution_count": 39,
   "metadata": {},
   "outputs": [],
   "source": [
    "def PauliMatrices():\n",
    "    #Create Pauli-matrices\n",
    "    PauliX = np.array([[0.,1.],\n",
    "              [1.,0.]])\n",
    "    PauliY = np.array([[0.,-1.j],\n",
    "              [1.j,0.]])\n",
    "    PauliZ = np.array([[1.,0.],\n",
    "              [0.,-1.]])\n",
    "    return(PauliX, PauliY, PauliZ)"
   ]
  },
  {
   "cell_type": "code",
   "execution_count": 40,
   "metadata": {},
   "outputs": [
    {
     "name": "stdout",
     "output_type": "stream",
     "text": [
      "PauliX: \n",
      " [[0. 1.]\n",
      " [1. 0.]] \n",
      "\n",
      "PauliY: \n",
      " [[ 0.+0.j -0.-1.j]\n",
      " [ 0.+1.j  0.+0.j]] \n",
      "\n",
      "PauliZ: \n",
      " [[ 1.  0.]\n",
      " [ 0. -1.]] \n",
      "\n"
     ]
    }
   ],
   "source": [
    "# Print the Pauli matrices\n",
    "\n",
    "print('PauliX:', '\\n', PauliMatrices()[0], '\\n')\n",
    "print('PauliY:', '\\n', PauliMatrices()[1], '\\n')\n",
    "print('PauliZ:', '\\n', PauliMatrices()[2], '\\n')"
   ]
  },
  {
   "cell_type": "markdown",
   "metadata": {},
   "source": [
    "### Checking generated Pauli matrices"
   ]
  },
  {
   "cell_type": "code",
   "execution_count": 41,
   "metadata": {},
   "outputs": [],
   "source": [
    "def PauliCheck(Coordinate): # coordinate can be 'X', 'Y' or 'Z'    \n",
    "    CoordIndexMap = {'X':0, 'Y':1, 'Z':2}\n",
    "    PauliIndex = CoordIndexMap[Coordinate]\n",
    "\n",
    "    # Retrieve Pauli matrix\n",
    "    PauliActual = PauliMatrices()[PauliIndex]\n",
    "\n",
    "    # Calculate the Pauli's determinant\n",
    "    Determinant = np.linalg.det(PauliActual)\n",
    "\n",
    "    # Calculate the Pauli's square\n",
    "    Square = np.square(PauliActual)\n",
    "\n",
    "    # Calculate the Pauli's trace\n",
    "    Trace = np.trace(PauliActual)\n",
    "\n",
    "    return(Determinant, Square, Trace)"
   ]
  },
  {
   "cell_type": "code",
   "execution_count": 42,
   "metadata": {
    "scrolled": true
   },
   "outputs": [
    {
     "name": "stdout",
     "output_type": "stream",
     "text": [
      "Determinant of Pauli Y :  (-1+0j)\n",
      "Square of Pauli Y : \n",
      " [[ 0.+0.j -1.+0.j]\n",
      " [-1.+0.j  0.+0.j]]\n",
      "Trace of Pauli Y :  0j \n",
      "\n"
     ]
    }
   ],
   "source": [
    "# Print them\n",
    "\n",
    "print('Determinant of Pauli', Coordinate, ': ', PauliCheck(Coordinate)[0])\n",
    "print('Square of Pauli', Coordinate, ':', '\\n', PauliCheck(Coordinate)[1])\n",
    "print('Trace of Pauli', Coordinate, ': ', PauliCheck(Coordinate)[2], '\\n')"
   ]
  }
 ],
 "metadata": {
  "kernelspec": {
   "display_name": "Python 3",
   "language": "python",
   "name": "python3"
  },
  "language_info": {
   "codemirror_mode": {
    "name": "ipython",
    "version": 3
   },
   "file_extension": ".py",
   "mimetype": "text/x-python",
   "name": "python",
   "nbconvert_exporter": "python",
   "pygments_lexer": "ipython3",
   "version": "3.6.4"
  }
 },
 "nbformat": 4,
 "nbformat_minor": 2
}
